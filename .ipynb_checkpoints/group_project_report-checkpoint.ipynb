{
 "cells": [
  {
   "cell_type": "markdown",
   "id": "8a766e41-afaa-48e2-a538-5782e54a633a",
   "metadata": {},
   "source": [
    "Title"
   ]
  },
  {
   "cell_type": "markdown",
   "id": "c0965f97-4bc9-4256-8504-24b867d46ac6",
   "metadata": {},
   "source": [
    "Introduction"
   ]
  },
  {
   "cell_type": "markdown",
   "id": "7e1d4554-0604-4056-a592-a2c966202642",
   "metadata": {},
   "source": [
    "Methods & Results"
   ]
  },
  {
   "cell_type": "markdown",
   "id": "bb646d57-952a-4631-85bd-647d27232e47",
   "metadata": {},
   "source": [
    "Discussion"
   ]
  },
  {
   "cell_type": "markdown",
   "id": "8ca90ad7-955c-4ccb-8152-5e4bd3bbd733",
   "metadata": {},
   "source": [
    "References"
   ]
  },
  {
   "cell_type": "code",
   "execution_count": null,
   "id": "16353673-a706-406a-b888-2e4c4ad7c381",
   "metadata": {},
   "outputs": [],
   "source": []
  }
 ],
 "metadata": {
  "kernelspec": {
   "display_name": "R",
   "language": "R",
   "name": "ir"
  },
  "language_info": {
   "codemirror_mode": "r",
   "file_extension": ".r",
   "mimetype": "text/x-r-source",
   "name": "R",
   "pygments_lexer": "r",
   "version": "4.2.2"
  }
 },
 "nbformat": 4,
 "nbformat_minor": 5
}
